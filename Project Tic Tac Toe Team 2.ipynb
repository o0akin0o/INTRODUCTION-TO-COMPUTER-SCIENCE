{
 "cells": [
  {
   "cell_type": "markdown",
   "id": "3e35af0d",
   "metadata": {},
   "source": [
    "# <u>Project(Tic Tac Toe)<u/>  \n",
    "    \n",
    "### Date:- 13.03.2023 \n",
    "    \n",
    "## **_Team:- 2_**    \n",
    "\n",
    "## <u>Team Members<u/>\n",
    "    \n",
    "Divya Bhupatbhai Lakhani\n",
    "    \n",
    "Nirav Arvindbhai Patel\n",
    "    \n",
    "Nikhil\n",
    "    \n",
    "Le Nhat Minh Quan\n",
    "    \n",
    "Kushani Lakshika Gimhani Abeykoon Mayandige    \n",
    "    \n",
    "    \n",
    "    \n",
    "\n",
    "   "
   ]
  },
  {
   "cell_type": "markdown",
   "id": "ccf344fa",
   "metadata": {},
   "source": [
    "# <u>Description of Code<u/>\n",
    "    \n",
    "This code creates a game program called Tic-Tac-Toe.\n"
   ]
  },
  {
   "cell_type": "markdown",
   "id": "fbfd4596",
   "metadata": {},
   "source": [
    "## Step1 - Import Libraries  \n",
    "In this step, we import the necessary libraries that we will use in our Tic-Tac-Toe game. We are importing the random and itertools libraries."
   ]
  },
  {
   "cell_type": "code",
   "execution_count": null,
   "id": "4dec998c",
   "metadata": {},
   "outputs": [],
   "source": [
    "import random \n",
    "import itertools\n"
   ]
  },
  {
   "cell_type": "markdown",
   "id": "1a2d45a6",
   "metadata": {},
   "source": [
    "## Step2 - Create Board  \n",
    "In this step, we create a board for our Tic-Tac-Toe game. We are using a list of numbers from 1 to 9 to represent our game board. Each number on the board corresponds to a position on the board where players can make their moves."
   ]
  },
  {
   "cell_type": "code",
   "execution_count": null,
   "id": "9a163729",
   "metadata": {},
   "outputs": [],
   "source": [
    "board = list(range(1, 10))"
   ]
  },
  {
   "cell_type": "markdown",
   "id": "e09517f8",
   "metadata": {},
   "source": [
    "## Step3 - Create function to print board  \n",
    "In this step, we define a function called \"show_board\" that takes a list (our game board) as an argument and prints it to the console. The function displays the current state of the game board."
   ]
  },
  {
   "cell_type": "code",
   "execution_count": null,
   "id": "6ac18b1c",
   "metadata": {},
   "outputs": [],
   "source": [
    "def show_board(board):\n",
    "    print(str(board[0]) + ' | ' + str(board[1]) + ' | ' + str(board[2]))\n",
    "    print('----------')\n",
    "    print(str(board[3]) + ' | ' + str(board[4]) + ' | ' + str(board[5]))\n",
    "    print('----------')\n",
    "    print(str(board[6]) + ' | ' + str(board[7]) + ' | ' + str(board[8]))"
   ]
  },
  {
   "cell_type": "markdown",
   "id": "5360fe8c",
   "metadata": {},
   "source": [
    "## Step4 - Create function to determine winner  \n",
    "In this step, we define a function called \"find_winner\" that takes a list (our game board) as an argument and determines if there is a winner. The function checks all possible combinations of winning moves and returns the winning player's token (\"X\" or \"O\") or None if there is no winner."
   ]
  },
  {
   "cell_type": "code",
   "execution_count": null,
   "id": "01c3d49f",
   "metadata": {},
   "outputs": [],
   "source": [
    "def find_winner(board):\n",
    "    combos = ([(0,1,2),(3,4,5),(6,7,8),(0,3,6),(1,4,7),(2,5,8),(0,4,8),(2,4,6)])\n",
    "    for player in ['X','O']:\n",
    "        positions = [i for i, x in enumerate(board) if x == player]\n",
    "        for combo in combos:\n",
    "            win = True\n",
    "            for pos in combo:\n",
    "                if pos not in positions:\n",
    "                    win = False\n",
    "            if win == True:\n",
    "                return player\n",
    "    return None"
   ]
  },
  {
   "cell_type": "markdown",
   "id": "42e145d4",
   "metadata": {},
   "source": [
    "## Step5 - Create function to take input from players  \n",
    "In this step, we define a function called \"take_input\" that takes the current player's token as an argument and prompts the player to enter their move. The function checks if the move is valid and updates the game board accordingly."
   ]
  },
  {
   "cell_type": "code",
   "execution_count": null,
   "id": "a92ea992",
   "metadata": {},
   "outputs": [],
   "source": [
    "def take_input(player_token):\n",
    "    valid = False\n",
    "    while not valid:\n",
    "        player_answer = input('Player %s, please enter your move: (1-9) ' % player_token)\n",
    "        try:\n",
    "            player_answer = int(player_answer)\n",
    "        except:\n",
    "            print('Invalid input, please try again.')\n",
    "            continue\n",
    "        if player_answer >= 1 and player_answer <= 9:\n",
    "            if (str(board[player_answer-1]) not in 'XO'):\n",
    "                board[player_answer-1] = player_token\n",
    "                valid = True\n",
    "            else:\n",
    "                print(\"Invalid move, please try again\")\n",
    "        else:\n",
    "            print(\"Invalid move, please try again\")"
   ]
  },
  {
   "cell_type": "markdown",
   "id": "519aebe5",
   "metadata": {},
   "source": [
    "## Step6 - Create function to switch player  \n",
    "In this step, we define a function called \"switch_player\" that takes the current player's token as an argument and returns the other player's token. This function is used to switch between the players after each move."
   ]
  },
  {
   "cell_type": "code",
   "execution_count": null,
   "id": "87c06ef9",
   "metadata": {},
   "outputs": [],
   "source": [
    "def switch_player(player_token):\n",
    "    if player_token == 'X':\n",
    "        return 'O'\n",
    "    else:\n",
    "        return 'X'"
   ]
  },
  {
   "cell_type": "markdown",
   "id": "6cd6c7e7",
   "metadata": {},
   "source": [
    "## Step7 - Create main function to run the game  \n",
    "In this step, we define the main function called \"play_game\" that runs the Tic-Tac-Toe game. The function uses a while loop to keep the game running until there is a winner or a tie. It calls the \"take_input\", \"show_board\", and \"find_winner\" functions and switches between the players after each move."
   ]
  },
  {
   "cell_type": "code",
   "execution_count": null,
   "id": "4dd3f59d",
   "metadata": {},
   "outputs": [],
   "source": [
    "def play_game():\n",
    "    show_board(board)\n",
    "    player_token = 'X'\n",
    "    winner = None\n",
    "    while not winner:\n",
    "        take_input(player_token)\n",
    "        show_board(board)\n",
    "        winner = find_winner(board)\n",
    "        player_token = switch_player(player_token)\n",
    "    if winner == 'X' or winner == 'O':\n",
    "        print('Player %s wins!' % winner)\n",
    "    else:\n",
    "        print('Tie Game!')"
   ]
  },
  {
   "cell_type": "markdown",
   "id": "9fce3d86",
   "metadata": {},
   "source": [
    "## Step8 - Run the game  \n",
    "In this step, we call the \"play_game\" function to start the Tic-Tac-Toe game. This is the entry point of our program, and it starts the game loop."
   ]
  },
  {
   "cell_type": "code",
   "execution_count": null,
   "id": "09c0caf7",
   "metadata": {},
   "outputs": [],
   "source": [
    "play_game()"
   ]
  },
  {
   "cell_type": "markdown",
   "id": "24ce827f",
   "metadata": {},
   "source": [
    "# CODE :"
   ]
  },
  {
   "cell_type": "code",
   "execution_count": 1,
   "id": "5327c985",
   "metadata": {},
   "outputs": [
    {
     "name": "stdout",
     "output_type": "stream",
     "text": [
      "1 | 2 | 3\n",
      "----------\n",
      "4 | 5 | 6\n",
      "----------\n",
      "7 | 8 | 9\n",
      "Player X, please enter your move: (1-9) 1\n",
      "X | 2 | 3\n",
      "----------\n",
      "4 | 5 | 6\n",
      "----------\n",
      "7 | 8 | 9\n",
      "Player O, please enter your move: (1-9) 1\n",
      "Invalid move, please try again\n",
      "Player O, please enter your move: (1-9) 2\n",
      "X | O | 3\n",
      "----------\n",
      "4 | 5 | 6\n",
      "----------\n",
      "7 | 8 | 9\n",
      "Player X, please enter your move: (1-9) 3\n",
      "X | O | X\n",
      "----------\n",
      "4 | 5 | 6\n",
      "----------\n",
      "7 | 8 | 9\n",
      "Player O, please enter your move: (1-9) 4\n",
      "X | O | X\n",
      "----------\n",
      "O | 5 | 6\n",
      "----------\n",
      "7 | 8 | 9\n",
      "Player X, please enter your move: (1-9) 5\n",
      "X | O | X\n",
      "----------\n",
      "O | X | 6\n",
      "----------\n",
      "7 | 8 | 9\n",
      "Player O, please enter your move: (1-9) 5\n",
      "Invalid move, please try again\n",
      "Player O, please enter your move: (1-9) \n",
      "Invalid input, please try again.\n",
      "Player O, please enter your move: (1-9) 5\n",
      "Invalid move, please try again\n",
      "Player O, please enter your move: (1-9) i\n",
      "Invalid input, please try again.\n",
      "Player O, please enter your move: (1-9) o\n",
      "Invalid input, please try again.\n",
      "Player O, please enter your move: (1-9) *\n",
      "Invalid input, please try again.\n",
      "Player O, please enter your move: (1-9) 6\n",
      "X | O | X\n",
      "----------\n",
      "O | X | O\n",
      "----------\n",
      "7 | 8 | 9\n",
      "Player X, please enter your move: (1-9) 7\n",
      "X | O | X\n",
      "----------\n",
      "O | X | O\n",
      "----------\n",
      "X | 8 | 9\n",
      "Player X wins!\n"
     ]
    }
   ],
   "source": [
    "\n",
    "## # Tic-Tac-Toe\n",
    "\n",
    "# Step1 - Import Libraries\n",
    "import random \n",
    "import itertools\n",
    "\n",
    "# Step2 - Create Board\n",
    "board = list(range(1, 10))\n",
    "\n",
    "# Step3 - Create function to print board\n",
    "def show_board(board):\n",
    "    print(str(board[0]) + ' | ' + str(board[1]) + ' | ' + str(board[2]))\n",
    "    print('----------')\n",
    "    print(str(board[3]) + ' | ' + str(board[4]) + ' | ' + str(board[5]))\n",
    "    print('----------')\n",
    "    print(str(board[6]) + ' | ' + str(board[7]) + ' | ' + str(board[8]))\n",
    "\n",
    "# Step4 - Create function to determine winner\n",
    "def find_winner(board):\n",
    "    combos = ([(0,1,2),(3,4,5),(6,7,8),(0,3,6),(1,4,7),(2,5,8),(0,4,8),(2,4,6)])\n",
    "    for player in ['X','O']:\n",
    "        positions = [i for i, x in enumerate(board) if x == player]\n",
    "        for combo in combos:\n",
    "            win = True\n",
    "            for pos in combo:\n",
    "                if pos not in positions:\n",
    "                    win = False\n",
    "            if win == True:\n",
    "                return player\n",
    "    return None\n",
    "\n",
    "# Step5 - Create function to take input from players\n",
    "def take_input(player_token):\n",
    "    valid = False\n",
    "    while not valid:\n",
    "        player_answer = input('Player %s, please enter your move: (1-9) ' % player_token)\n",
    "        try:\n",
    "            player_answer = int(player_answer)\n",
    "        except:\n",
    "            print('Invalid input, please try again.')\n",
    "            continue\n",
    "        if player_answer >= 1 and player_answer <= 9:\n",
    "            if (str(board[player_answer-1]) not in 'XO'):\n",
    "                board[player_answer-1] = player_token\n",
    "                valid = True\n",
    "            else:\n",
    "                print(\"Invalid move, please try again\")\n",
    "        else:\n",
    "            print(\"Invalid move, please try again\")\n",
    "\n",
    "# Step6 - Create function to switch player\n",
    "def switch_player(player_token):\n",
    "    if player_token == 'X':\n",
    "        return 'O'\n",
    "    else:\n",
    "        return 'X'\n",
    "\n",
    "# Step7 - Create main function to run the game\n",
    "def play_game():\n",
    "    show_board(board)\n",
    "    player_token = 'X'\n",
    "    winner = None\n",
    "    while not winner:\n",
    "        take_input(player_token)\n",
    "        show_board(board)\n",
    "        winner = find_winner(board)\n",
    "        player_token = switch_player(player_token)\n",
    "        if all(str(x) in 'XO' for x in board):\n",
    "            break\n",
    "    if winner == 'X' or winner == 'O':\n",
    "        print('Player %s wins!' % winner)\n",
    "    else:\n",
    "        print('Tie Game!')\n",
    "\n",
    "# Step8 - Run the game\n",
    "play_game()\n"
   ]
  }
 ],
 "metadata": {
  "kernelspec": {
   "display_name": "Python 3 (ipykernel)",
   "language": "python",
   "name": "python3"
  },
  "language_info": {
   "codemirror_mode": {
    "name": "ipython",
    "version": 3
   },
   "file_extension": ".py",
   "mimetype": "text/x-python",
   "name": "python",
   "nbconvert_exporter": "python",
   "pygments_lexer": "ipython3",
   "version": "3.11.2"
  }
 },
 "nbformat": 4,
 "nbformat_minor": 5
}
